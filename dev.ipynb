{
 "cells": [
  {
   "cell_type": "code",
   "execution_count": 131,
   "metadata": {},
   "outputs": [],
   "source": [
    "import random\n",
    "\n",
    "from wordsmith.constants import WORD_LEN"
   ]
  },
  {
   "cell_type": "code",
   "execution_count": 132,
   "metadata": {},
   "outputs": [],
   "source": [
    "with open(\"./words.txt\", \"r\") as f:\n",
    "    words = f.read().splitlines()"
   ]
  },
  {
   "cell_type": "code",
   "execution_count": 133,
   "metadata": {},
   "outputs": [],
   "source": [
    "hidden_word = random.choice(words)\n",
    "guesses = []\n",
    "all_letters = set(\"abcdefghijklmnopqrstuvwxyz\")\n",
    "known_letters = [None for _ in range(WORD_LEN)]\n",
    "not_here_letters = [set() for _ in range(WORD_LEN)]\n",
    "has_a_letters = set()\n",
    "not_in_letters = set()"
   ]
  },
  {
   "cell_type": "code",
   "execution_count": 134,
   "metadata": {},
   "outputs": [],
   "source": [
    "for guess in [\"adieu\", \"stork\", \"clang\", \"wharf\"]:\n",
    "    guesses.append(guess)\n",
    "    for pos, letter in enumerate(guess):\n",
    "        if letter in set(hidden_word):\n",
    "            if letter == hidden_word[pos]:\n",
    "                known_letters[pos] = letter\n",
    "            else:\n",
    "                not_here_letters[pos].add(letter)\n",
    "            has_a_letters.add(letter)\n",
    "        else:\n",
    "            not_in_letters.add(letter)"
   ]
  },
  {
   "cell_type": "code",
   "execution_count": 135,
   "metadata": {},
   "outputs": [
    {
     "name": "stdout",
     "output_type": "stream",
     "text": [
      "[None, None, 'a', None, None]\n",
      "[{'s', 'a'}, {'d'}, set(), set(), {'u'}]\n",
      "{'s', 'a', 'u', 'd'}\n",
      "{'t', 'i', 'c', 'w', 'l', 'h', 'n', 'f', 'g', 'e', 'o', 'r', 'k'}\n"
     ]
    }
   ],
   "source": [
    "print(known_letters)\n",
    "print(not_here_letters)\n",
    "print(has_a_letters)\n",
    "print(not_in_letters)"
   ]
  },
  {
   "cell_type": "code",
   "execution_count": 136,
   "metadata": {},
   "outputs": [],
   "source": [
    "possible = []\n",
    "for word in words:\n",
    "    if not has_a_letters.issubset(set(word)):\n",
    "        continue\n",
    "    \n",
    "    bad_letters = False\n",
    "    for l in word:\n",
    "        if l in not_in_letters:\n",
    "            bad_letters = True\n",
    "            break\n",
    "    if bad_letters:\n",
    "        continue\n",
    "\n",
    "    match_letters = True\n",
    "    for k, l in zip(known_letters, word):\n",
    "        if k is not None and k != l:\n",
    "            match_letters = False\n",
    "            break\n",
    "    if not match_letters:\n",
    "        continue\n",
    "\n",
    "    match_not_here = True\n",
    "    for not_set, l in zip(not_here_letters, word):\n",
    "        if len(not_set) > 0 and l in not_set:\n",
    "            match_not_here = False\n",
    "            break\n",
    "    if not match_not_here:\n",
    "        continue\n",
    "\n",
    "    possible.append(word)"
   ]
  },
  {
   "cell_type": "code",
   "execution_count": 137,
   "metadata": {},
   "outputs": [
    {
     "data": {
      "text/plain": [
       "3"
      ]
     },
     "execution_count": 137,
     "metadata": {},
     "output_type": "execute_result"
    }
   ],
   "source": [
    "len(possible)"
   ]
  },
  {
   "cell_type": "code",
   "execution_count": 138,
   "metadata": {},
   "outputs": [
    {
     "data": {
      "text/plain": [
       "['dyaus', 'duads', 'quads']"
      ]
     },
     "execution_count": 138,
     "metadata": {},
     "output_type": "execute_result"
    }
   ],
   "source": [
    "possible"
   ]
  },
  {
   "cell_type": "code",
   "execution_count": 139,
   "metadata": {},
   "outputs": [
    {
     "data": {
      "text/plain": [
       "'dyaus'"
      ]
     },
     "execution_count": 139,
     "metadata": {},
     "output_type": "execute_result"
    }
   ],
   "source": [
    "hidden_word"
   ]
  },
  {
   "cell_type": "code",
   "execution_count": null,
   "metadata": {},
   "outputs": [],
   "source": []
  }
 ],
 "metadata": {
  "interpreter": {
   "hash": "3147c1cabc5429ac89febd00e48f3c0f240286189917cf469134ce6c594ce2af"
  },
  "kernelspec": {
   "display_name": "Python 3.9.7 ('.venv': venv)",
   "language": "python",
   "name": "python3"
  },
  "language_info": {
   "codemirror_mode": {
    "name": "ipython",
    "version": 3
   },
   "file_extension": ".py",
   "mimetype": "text/x-python",
   "name": "python",
   "nbconvert_exporter": "python",
   "pygments_lexer": "ipython3",
   "version": "3.9.7"
  },
  "orig_nbformat": 4
 },
 "nbformat": 4,
 "nbformat_minor": 2
}

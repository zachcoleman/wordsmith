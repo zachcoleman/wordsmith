{
 "cells": [
  {
   "cell_type": "code",
   "execution_count": 1,
   "metadata": {},
   "outputs": [],
   "source": [
    "import random\n",
    "\n",
    "import numpy as np\n",
    "from  scipy.special import comb\n",
    "import matplotlib.pyplot as plt\n",
    "\n",
    "from wordsmith.constants import WORD_LEN\n",
    "from wordsmith.db import WordDatabase\n",
    "from wordsmith.info import Information\n",
    "from wordsmith.game import Game"
   ]
  },
  {
   "cell_type": "code",
   "execution_count": 2,
   "metadata": {},
   "outputs": [],
   "source": [
    "db = WordDatabase(\"./words.txt\")"
   ]
  },
  {
   "cell_type": "code",
   "execution_count": 3,
   "metadata": {},
   "outputs": [],
   "source": [
    "N, k  = len(db.words), 3"
   ]
  },
  {
   "cell_type": "code",
   "execution_count": 4,
   "metadata": {},
   "outputs": [
    {
     "name": "stdout",
     "output_type": "stream",
     "text": [
      "672,097,680,716\n"
     ]
    }
   ],
   "source": [
    "print(f\"{int(comb(N, k)):,}\")"
   ]
  },
  {
   "cell_type": "code",
   "execution_count": 7,
   "metadata": {},
   "outputs": [
    {
     "name": "stdout",
     "output_type": "stream",
     "text": [
      "120\n",
      "120.0\n"
     ]
    }
   ],
   "source": [
    "N = 10\n",
    "count = 0\n",
    "for i in range(N):\n",
    "    for j in range(i):\n",
    "        for k in range(j):\n",
    "            count += 1\n",
    "print(count)\n",
    "print(comb(N, 3))"
   ]
  },
  {
   "cell_type": "code",
   "execution_count": null,
   "metadata": {},
   "outputs": [],
   "source": []
  }
 ],
 "metadata": {
  "interpreter": {
   "hash": "3147c1cabc5429ac89febd00e48f3c0f240286189917cf469134ce6c594ce2af"
  },
  "kernelspec": {
   "display_name": "Python 3.9.7 ('.venv': venv)",
   "language": "python",
   "name": "python3"
  },
  "language_info": {
   "codemirror_mode": {
    "name": "ipython",
    "version": 3
   },
   "file_extension": ".py",
   "mimetype": "text/x-python",
   "name": "python",
   "nbconvert_exporter": "python",
   "pygments_lexer": "ipython3",
   "version": "3.9.7"
  },
  "orig_nbformat": 4
 },
 "nbformat": 4,
 "nbformat_minor": 2
}

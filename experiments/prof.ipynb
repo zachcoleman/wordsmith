{
 "cells": [
  {
   "cell_type": "code",
   "execution_count": 1,
   "metadata": {},
   "outputs": [],
   "source": [
    "import numpy as np\n",
    "import pandas as pd\n",
    "\n",
    "from wordsmith.constants import WORD_LEN\n",
    "from wordsmith.db import WordDatabase\n",
    "from wordsmith.info import Information\n",
    "from wordsmith.game import Game"
   ]
  },
  {
   "cell_type": "code",
   "execution_count": 2,
   "metadata": {},
   "outputs": [],
   "source": [
    "db = WordDatabase(\"../data/words.txt\")\n",
    "with open(\"../data/candidates.txt\") as f:\n",
    "    strats = []\n",
    "    for line in f.readlines():\n",
    "        strats.append(line[:-1].split(\",\"))\n",
    "\n",
    "data = []\n",
    "for ix in range(1):\n",
    "    strat = strats[ix]\n",
    "    rs = np.random.choice(db.words, 1_000)\n",
    "    words_left = []\n",
    "    for word in rs:\n",
    "        game = Game(word)\n",
    "        info = game.generate_information(strat)\n",
    "        words_left.append(len(db.query(info)))\n",
    "    \n",
    "    data.append({\n",
    "        **{f\"w{i}\": w for i, w in enumerate(strat)},\n",
    "        \"median\": np.median(words_left),\n",
    "        \"mean\": np.mean(words_left),\n",
    "    })"
   ]
  },
  {
   "cell_type": "code",
   "execution_count": 3,
   "metadata": {},
   "outputs": [
    {
     "name": "stdout",
     "output_type": "stream",
     "text": [
      "15,918,000\n",
      "0.0932 µs\n",
      "0.0830 µs\n"
     ]
    }
   ],
   "source": [
    "print(f\"{len(db.not_set_checks):,}\")\n",
    "print(f\"{np.mean(np.array(db.not_set_checks))*1_000_000:.4f} µs\")\n",
    "print(f\"{np.median(np.array(db.not_set_checks))*1_000_000:.4f} µs\")"
   ]
  },
  {
   "cell_type": "code",
   "execution_count": 4,
   "metadata": {},
   "outputs": [
    {
     "name": "stdout",
     "output_type": "stream",
     "text": [
      "335,536\n",
      "0.2701 µs\n",
      "0.2500 µs\n"
     ]
    }
   ],
   "source": [
    "print(f\"{len(db.has_set_checks):,}\")\n",
    "print(f\"{np.mean(np.array(db.has_set_checks))*1_000_000:.4f} µs\")\n",
    "print(f\"{np.median(np.array(db.has_set_checks))*1_000_000:.4f} µs\")"
   ]
  },
  {
   "cell_type": "code",
   "execution_count": 5,
   "metadata": {},
   "outputs": [
    {
     "name": "stdout",
     "output_type": "stream",
     "text": [
      "24,578\n",
      "0.2643 µs\n",
      "0.2500 µs\n"
     ]
    }
   ],
   "source": [
    "print(f\"{len(db.known_pos_checks):,}\")\n",
    "print(f\"{np.mean(np.array(db.known_pos_checks))*1_000_000:.4f} µs\")\n",
    "print(f\"{np.median(np.array(db.known_pos_checks))*1_000_000:.4f} µs\")"
   ]
  },
  {
   "cell_type": "code",
   "execution_count": 6,
   "metadata": {},
   "outputs": [
    {
     "name": "stdout",
     "output_type": "stream",
     "text": [
      "13,345\n",
      "0.2544 µs\n",
      "0.2500 µs\n"
     ]
    }
   ],
   "source": [
    "print(f\"{len(db.not_pos_checks):,}\")\n",
    "print(f\"{np.mean(np.array(db.not_pos_checks))*1_000_000:.4f} µs\")\n",
    "print(f\"{np.median(np.array(db.not_pos_checks))*1_000_000:.4f} µs\")"
   ]
  }
 ],
 "metadata": {
  "interpreter": {
   "hash": "31c3ea9edb72fbfa7a8a8f4db139c5f87bfc5dddd163f49efebf3ec7167543f0"
  },
  "kernelspec": {
   "display_name": "Python 3.9.11 ('wordsmith-OGnOicat-py3.9')",
   "language": "python",
   "name": "python3"
  },
  "language_info": {
   "codemirror_mode": {
    "name": "ipython",
    "version": 3
   },
   "file_extension": ".py",
   "mimetype": "text/x-python",
   "name": "python",
   "nbconvert_exporter": "python",
   "pygments_lexer": "ipython3",
   "version": "3.9.11"
  },
  "orig_nbformat": 4
 },
 "nbformat": 4,
 "nbformat_minor": 2
}

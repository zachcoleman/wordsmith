{
 "cells": [
  {
   "cell_type": "code",
   "execution_count": 2,
   "metadata": {},
   "outputs": [],
   "source": [
    "import numpy as np\n",
    "import matplotlib.pyplot as plt\n",
    "\n",
    "from wordsmith.constants import WORD_LEN\n",
    "from wordsmith.db import WordDatabase\n",
    "from wordsmith.info import Information\n",
    "from wordsmith.game import Game"
   ]
  },
  {
   "cell_type": "code",
   "execution_count": 3,
   "metadata": {},
   "outputs": [],
   "source": [
    "db = WordDatabase(\"../data/words.txt\")"
   ]
  },
  {
   "cell_type": "code",
   "execution_count": 4,
   "metadata": {},
   "outputs": [],
   "source": [
    "strat1 = [\"goofy\", \"stunk\", \"stink\"]\n",
    "strat2 = [\"stare\", \"cling\", \"would\"]"
   ]
  },
  {
   "cell_type": "code",
   "execution_count": 5,
   "metadata": {},
   "outputs": [],
   "source": [
    "rs = np.random.choice(db.words, 1_000)\n",
    "words_left = []\n",
    "for word in rs:\n",
    "    game = Game(word)\n",
    "    info = game.generate_information(strat1)\n",
    "    words_left.append(len(db.query(info)))\n",
    "counts1 = np.array(words_left)"
   ]
  },
  {
   "cell_type": "code",
   "execution_count": null,
   "metadata": {},
   "outputs": [],
   "source": [
    "words_left = []\n",
    "for word in rs:\n",
    "    game = Game(word)\n",
    "    info = game.generate_information(strat2)\n",
    "    words_left.append(len(db.query(info)))\n",
    "counts2 = np.array(words_left)"
   ]
  },
  {
   "cell_type": "code",
   "execution_count": null,
   "metadata": {},
   "outputs": [
    {
     "data": {
      "image/png": "[encoded data removed]",
      "text/plain": [
       "<Figure size 432x288 with 1 Axes>"
      ]
     },
     "metadata": {
      "needs_background": "light"
     },
     "output_type": "display_data"
    }
   ],
   "source": [
    "x = np.arange(0, 1+1e-8, 0.1)[:-1]\n",
    "y1 = np.quantile(counts1, x)\n",
    "y2 = np.quantile(counts2, x)\n",
    "plt.plot(x, y1)\n",
    "plt.plot(x, y2)\n",
    "plt.gca().set_title(\"Strategy Comparison\")\n",
    "plt.show()"
   ]
  }
 ],
 "metadata": {
  "interpreter": {
   "hash": "3147c1cabc5429ac89febd00e48f3c0f240286189917cf469134ce6c594ce2af"
  },
  "kernelspec": {
   "display_name": "Python 3.9.7 ('.venv': venv)",
   "language": "python",
   "name": "python3"
  },
  "language_info": {
   "codemirror_mode": {
    "name": "ipython",
    "version": 3
   },
   "file_extension": ".py",
   "mimetype": "text/x-python",
   "name": "python",
   "nbconvert_exporter": "python",
   "pygments_lexer": "ipython3",
   "version": "3.9.11"
  },
  "orig_nbformat": 4
 },
 "nbformat": 4,
 "nbformat_minor": 2
}

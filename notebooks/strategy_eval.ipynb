{
 "cells": [
  {
   "cell_type": "code",
   "execution_count": null,
   "metadata": {},
   "outputs": [],
   "source": [
    "import numpy as np\n",
    "import matplotlib.pyplot as plt\n",
    "\n",
    "from wordsmith.constants import WORD_LEN\n",
    "from wordsmith.db import WordDatabase\n",
    "from wordsmith.info import Information\n",
    "from wordsmith.game import Game"
   ]
  },
  {
   "cell_type": "code",
   "execution_count": null,
   "metadata": {},
   "outputs": [],
   "source": [
    "db = WordDatabase(\"../data/words.txt\")\n",
    "strat = [\"leaks\", \"dumby\", \"wrong\"]"
   ]
  },
  {
   "cell_type": "code",
   "execution_count": null,
   "metadata": {},
   "outputs": [],
   "source": [
    "words_left = []\n",
    "for word in db.words:\n",
    "    game = Game(word)\n",
    "    info = game.generate_information(strat)\n",
    "    words_left.append(len(db.query(info)))"
   ]
  },
  {
   "cell_type": "code",
   "execution_count": null,
   "metadata": {},
   "outputs": [],
   "source": [
    "np.mean(words_left), np.median(words_left)"
   ]
  }
 ],
 "metadata": {
  "interpreter": {
   "hash": "31c3ea9edb72fbfa7a8a8f4db139c5f87bfc5dddd163f49efebf3ec7167543f0"
  },
  "kernelspec": {
   "display_name": "Python 3.9.11 ('wordsmith-OGnOicat-py3.9')",
   "language": "python",
   "name": "python3"
  },
  "language_info": {
   "codemirror_mode": {
    "name": "ipython",
    "version": 3
   },
   "file_extension": ".py",
   "mimetype": "text/x-python",
   "name": "python",
   "nbconvert_exporter": "python",
   "pygments_lexer": "ipython3",
   "version": "3.9.11"
  },
  "orig_nbformat": 4
 },
 "nbformat": 4,
 "nbformat_minor": 2
}

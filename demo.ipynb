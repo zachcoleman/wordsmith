{
 "cells": [
  {
   "cell_type": "code",
   "execution_count": 21,
   "metadata": {},
   "outputs": [],
   "source": [
    "import random\n",
    "\n",
    "from wordsmith.constants import WORD_LEN\n",
    "from wordsmith.db import WordDatabase\n",
    "from wordsmith.info import Information\n",
    "from wordsmith.game import Game"
   ]
  },
  {
   "cell_type": "code",
   "execution_count": 22,
   "metadata": {},
   "outputs": [],
   "source": [
    "db = WordDatabase(\"./words.txt\")\n",
    "game = Game(random.choice(db.words))"
   ]
  },
  {
   "cell_type": "code",
   "execution_count": 23,
   "metadata": {},
   "outputs": [
    {
     "data": {
      "text/plain": [
       "_ _ _ _ _\n",
       "Letters not in position:\n",
       " ['s']\n",
       " ['t']\n",
       " []\n",
       " []\n",
       " ['u', 'g']\n",
       "Has letters: u,t,s,g\n",
       "Does not have letter: d,r,l,k,c,h,f,o,e,a,i,n,w"
      ]
     },
     "execution_count": 23,
     "metadata": {},
     "output_type": "execute_result"
    }
   ],
   "source": [
    "info = game.generate_information([\"adieu\", \"stork\", \"clang\", \"wharf\"])\n",
    "info"
   ]
  },
  {
   "cell_type": "code",
   "execution_count": 24,
   "metadata": {},
   "outputs": [
    {
     "data": {
      "text/plain": [
       "['gusty', 'gusts', 'gutsy']"
      ]
     },
     "execution_count": 24,
     "metadata": {},
     "output_type": "execute_result"
    }
   ],
   "source": [
    "db.query(info)"
   ]
  }
 ],
 "metadata": {
  "interpreter": {
   "hash": "3147c1cabc5429ac89febd00e48f3c0f240286189917cf469134ce6c594ce2af"
  },
  "kernelspec": {
   "display_name": "Python 3.9.7 ('.venv': venv)",
   "language": "python",
   "name": "python3"
  },
  "language_info": {
   "codemirror_mode": {
    "name": "ipython",
    "version": 3
   },
   "file_extension": ".py",
   "mimetype": "text/x-python",
   "name": "python",
   "nbconvert_exporter": "python",
   "pygments_lexer": "ipython3",
   "version": "3.9.7"
  },
  "orig_nbformat": 4
 },
 "nbformat": 4,
 "nbformat_minor": 2
}
